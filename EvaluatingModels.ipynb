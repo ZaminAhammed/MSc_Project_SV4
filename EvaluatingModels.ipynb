{
 "cells": [
  {
   "cell_type": "code",
   "execution_count": 3,
   "id": "78673b87-e45b-4977-a2ad-5f44a4d0e6d7",
   "metadata": {},
   "outputs": [],
   "source": [
    "import numpy as np\n",
    "import pandas as pd\n",
    "import matplotlib.pyplot as plt\n",
    "import seaborn as sns"
   ]
  },
  {
   "cell_type": "code",
   "execution_count": null,
   "id": "16d78218-2df0-48db-93da-eb6b9e919e6d",
   "metadata": {},
   "outputs": [],
   "source": [
    "from sklearn.linear_model import LogisticRegression\n",
    "from sklearn.svm import SVC\n",
    "from sklearn.ensemble import RandomForestClassifier\n",
    "import xgboost as xgb\n",
    "\n",
    "from sklearn.preprocessing import MinMaxScaler\n",
    "from sklearn.preprocessing import StandardScaler\n",
    "\n",
    "from sklearn.model_selection import cross_val_score\n",
    "from sklearn.model_selection import LeaveOneOut\n",
    "from sklearn.model_selection import RepeatedStratifiedKFold"
   ]
  },
  {
   "cell_type": "code",
   "execution_count": 83,
   "id": "63e966c2-7e2d-463c-843d-76d58c82ce12",
   "metadata": {},
   "outputs": [],
   "source": [
    "data1 = pd.read_csv(\"../TranscriptomicsTargets.csv\")\n",
    "data1.set_index('Gene', inplace=True)\n",
    "X1 = data1.iloc[:,2:10]\n",
    "Y1 = data1.iloc[:,0:1]\n",
    "\n",
    "data2 = pd.read_csv(\"../IntegratedTargets.csv\")\n",
    "data2.set_index('Gene', inplace=True)\n",
    "X2 = data2.iloc[:,2:12]\n",
    "Y2 = data2.iloc[:,0:1]\n",
    "\n",
    "normalizer = MinMaxScaler()\n",
    "standardizer = StandardScaler()\n",
    "X2_stand = standardizer.fit_transform(X2)\n",
    "X2_normal = normalizer.fit_transform(X2_stand)"
   ]
  },
  {
   "cell_type": "code",
   "execution_count": 123,
   "id": "92c36783-c49f-43a6-8de3-be948a3c08ec",
   "metadata": {},
   "outputs": [],
   "source": [
    "model_1 = LogisticRegression()\n",
    "model_2 = SVC(kernel='linear')\n",
    "model_3 = RandomForestClassifier(n_estimators=100, random_state=42)\n",
    "model_4 = xgb.XGBClassifier(learning_rate=0.1, n_estimators=100, max_depth=5, min_child_weight=2, objective=\"binary:logistic\", \n",
    "                            subsample=0.9, colsample_bytree=0.8, seed=23333)\n",
    "\n",
    "cv1 = LeaveOneOut()\n",
    "cv2 = RepeatedStratifiedKFold(n_splits=10, n_repeats=5, random_state=1)\n",
    "\n",
    "scoring = 'accuracy'\n",
    "n_jobs = -1\n",
    "error_score = 'raise'"
   ]
  },
  {
   "cell_type": "code",
   "execution_count": 145,
   "id": "ab580542-1bef-4d59-bd5b-f2615ccf805e",
   "metadata": {},
   "outputs": [],
   "source": [
    "models = [model_1, model_2, model_3, model_4]\n",
    "cvs = [cv1, cv2]\n",
    "tr_scores_mean = []\n",
    "tr_scores_std = []\n",
    "i_scores_mean = []\n",
    "i_scores_std = []\n",
    "\n",
    "for x in models:\n",
    "    for y in cvs:\n",
    "        score1 = cross_val_score(x, X1, Y1, scoring=scoring, cv=y, n_jobs=n_jobs, error_score=error_score)\n",
    "        score2 = cross_val_score(x, X2_normal, Y2, scoring=scoring, cv=y, n_jobs=n_jobs, error_score=error_score)\n",
    "        tr_scores_mean.append(np.mean(score1))\n",
    "        tr_scores_std.append(np.std(score1))\n",
    "        i_scores_mean.append(np.mean(score2))\n",
    "        i_scores_std.append(np.std(score2))"
   ]
  },
  {
   "cell_type": "code",
   "execution_count": 147,
   "id": "c47313c4-45f6-4e9d-aa42-2e8f0e4eb2f0",
   "metadata": {},
   "outputs": [],
   "source": [
    "methods = ['LogisticRegression', 'LinearSVM', 'RandomForest', 'XGBoost']\n",
    "LOOCV1 = []\n",
    "LOOCV2 = []\n",
    "KFoldCV1 = []\n",
    "KFoldCV2 = []\n",
    "for i in range(0,8):\n",
    "    if(i%2==0):\n",
    "        LOOCV1.append('%.3f (%.3f)' % (tr_scores_mean[i], tr_scores_std[i]))\n",
    "        LOOCV2.append('%.3f (%.3f)' % (i_scores_mean[i], i_scores_std[i]))\n",
    "    else:\n",
    "        KFoldCV1.append('%.3f (%.3f)' % (tr_scores_mean[i], tr_scores_std[i]))\n",
    "        KFoldCV2.append('%.3f (%.3f)' % (i_scores_mean[i], i_scores_std[i]))\n",
    "\n",
    "trans = pd.DataFrame({'Model':methods, 'LeaveOneOut Accuracy':LOOCV1, 'KFold Accuracy':KFoldCV1})\n",
    "integ = pd.DataFrame({'Model':methods, 'LeaveOneOut Accuracy':LOOCV2, 'KFold Accuracy':KFoldCV2})"
   ]
  },
  {
   "cell_type": "code",
   "execution_count": 149,
   "id": "c7fddbda-f5b3-4c48-8b63-a2bac06bb9c5",
   "metadata": {},
   "outputs": [
    {
     "data": {
      "text/html": [
       "<div>\n",
       "<style scoped>\n",
       "    .dataframe tbody tr th:only-of-type {\n",
       "        vertical-align: middle;\n",
       "    }\n",
       "\n",
       "    .dataframe tbody tr th {\n",
       "        vertical-align: top;\n",
       "    }\n",
       "\n",
       "    .dataframe thead th {\n",
       "        text-align: right;\n",
       "    }\n",
       "</style>\n",
       "<table border=\"1\" class=\"dataframe\">\n",
       "  <thead>\n",
       "    <tr style=\"text-align: right;\">\n",
       "      <th></th>\n",
       "      <th>Model</th>\n",
       "      <th>LeaveOneOut Accuracy</th>\n",
       "      <th>KFold Accuracy</th>\n",
       "    </tr>\n",
       "  </thead>\n",
       "  <tbody>\n",
       "    <tr>\n",
       "      <th>0</th>\n",
       "      <td>LogisticRegression</td>\n",
       "      <td>0.658 (0.475)</td>\n",
       "      <td>0.646 (0.182)</td>\n",
       "    </tr>\n",
       "    <tr>\n",
       "      <th>1</th>\n",
       "      <td>LinearSVM</td>\n",
       "      <td>0.671 (0.470)</td>\n",
       "      <td>0.669 (0.194)</td>\n",
       "    </tr>\n",
       "    <tr>\n",
       "      <th>2</th>\n",
       "      <td>RandomForest</td>\n",
       "      <td>0.753 (0.431)</td>\n",
       "      <td>0.753 (0.171)</td>\n",
       "    </tr>\n",
       "    <tr>\n",
       "      <th>3</th>\n",
       "      <td>XGBoost</td>\n",
       "      <td>0.658 (0.475)</td>\n",
       "      <td>0.673 (0.162)</td>\n",
       "    </tr>\n",
       "  </tbody>\n",
       "</table>\n",
       "</div>"
      ],
      "text/plain": [
       "                Model LeaveOneOut Accuracy KFold Accuracy\n",
       "0  LogisticRegression        0.658 (0.475)  0.646 (0.182)\n",
       "1           LinearSVM        0.671 (0.470)  0.669 (0.194)\n",
       "2        RandomForest        0.753 (0.431)  0.753 (0.171)\n",
       "3             XGBoost        0.658 (0.475)  0.673 (0.162)"
      ]
     },
     "execution_count": 149,
     "metadata": {},
     "output_type": "execute_result"
    }
   ],
   "source": [
    "trans"
   ]
  },
  {
   "cell_type": "code",
   "execution_count": 151,
   "id": "78b7b933-a73d-4cda-96fc-d680f139a88f",
   "metadata": {},
   "outputs": [
    {
     "data": {
      "text/html": [
       "<div>\n",
       "<style scoped>\n",
       "    .dataframe tbody tr th:only-of-type {\n",
       "        vertical-align: middle;\n",
       "    }\n",
       "\n",
       "    .dataframe tbody tr th {\n",
       "        vertical-align: top;\n",
       "    }\n",
       "\n",
       "    .dataframe thead th {\n",
       "        text-align: right;\n",
       "    }\n",
       "</style>\n",
       "<table border=\"1\" class=\"dataframe\">\n",
       "  <thead>\n",
       "    <tr style=\"text-align: right;\">\n",
       "      <th></th>\n",
       "      <th>Model</th>\n",
       "      <th>LeaveOneOut Accuracy</th>\n",
       "      <th>KFold Accuracy</th>\n",
       "    </tr>\n",
       "  </thead>\n",
       "  <tbody>\n",
       "    <tr>\n",
       "      <th>0</th>\n",
       "      <td>LogisticRegression</td>\n",
       "      <td>0.767 (0.423)</td>\n",
       "      <td>0.769 (0.153)</td>\n",
       "    </tr>\n",
       "    <tr>\n",
       "      <th>1</th>\n",
       "      <td>LinearSVM</td>\n",
       "      <td>0.781 (0.414)</td>\n",
       "      <td>0.777 (0.156)</td>\n",
       "    </tr>\n",
       "    <tr>\n",
       "      <th>2</th>\n",
       "      <td>RandomForest</td>\n",
       "      <td>0.808 (0.394)</td>\n",
       "      <td>0.783 (0.146)</td>\n",
       "    </tr>\n",
       "    <tr>\n",
       "      <th>3</th>\n",
       "      <td>XGBoost</td>\n",
       "      <td>0.781 (0.414)</td>\n",
       "      <td>0.775 (0.136)</td>\n",
       "    </tr>\n",
       "  </tbody>\n",
       "</table>\n",
       "</div>"
      ],
      "text/plain": [
       "                Model LeaveOneOut Accuracy KFold Accuracy\n",
       "0  LogisticRegression        0.767 (0.423)  0.769 (0.153)\n",
       "1           LinearSVM        0.781 (0.414)  0.777 (0.156)\n",
       "2        RandomForest        0.808 (0.394)  0.783 (0.146)\n",
       "3             XGBoost        0.781 (0.414)  0.775 (0.136)"
      ]
     },
     "execution_count": 151,
     "metadata": {},
     "output_type": "execute_result"
    }
   ],
   "source": [
    "integ"
   ]
  },
  {
   "cell_type": "code",
   "execution_count": null,
   "id": "5b86ac1b-502c-474b-95ef-b23fa21f8020",
   "metadata": {},
   "outputs": [],
   "source": []
  }
 ],
 "metadata": {
  "kernelspec": {
   "display_name": "Python 3 (ipykernel)",
   "language": "python",
   "name": "python3"
  },
  "language_info": {
   "codemirror_mode": {
    "name": "ipython",
    "version": 3
   },
   "file_extension": ".py",
   "mimetype": "text/x-python",
   "name": "python",
   "nbconvert_exporter": "python",
   "pygments_lexer": "ipython3",
   "version": "3.12.4"
  }
 },
 "nbformat": 4,
 "nbformat_minor": 5
}
